{
 "cells": [
  {
   "cell_type": "code",
   "execution_count": 27,
   "metadata": {},
   "outputs": [],
   "source": [
    "import pandas as pd\n",
    "import matplotlib.pyplot as plt\n",
    "import seaborn as sns\n",
    "from statistics import mean\n",
    "import matplotlib.lines as mlines\n",
    "import numpy as np"
   ]
  },
  {
   "cell_type": "code",
   "execution_count": 54,
   "metadata": {},
   "outputs": [],
   "source": [
    "def pqa_analysis(df):\n",
    "    fig = plt.figure()\n",
    "    ax = plt.axes()\n",
    "\n",
    "    ax.set_xlim(0, mean(df.iloc[:,1])*2)\n",
    "    ax.set_ylim(0, mean(df.iloc[:,0])*2)\n",
    "    ax.set_xlabel('Отгрузки')\n",
    "    ax.set_ylabel('Продажи')\n",
    "    ax.add_line(mlines.Line2D([0,mean(df.iloc[:,1])*2],[mean(df.iloc[:,0]),mean(df.iloc[:,0])]))\n",
    "    ax.add_line(mlines.Line2D([mean(df.iloc[:,1]),mean(df.iloc[:,1])],[0,mean(df.iloc[:,0])*2]))\n",
    "    for num, row in zip(range(len(df)), list(df.index)):\n",
    "        ax.text(df.iloc[num, 1], df.iloc[num, 0], row)"
   ]
  },
  {
   "cell_type": "code",
   "execution_count": 57,
   "metadata": {},
   "outputs": [
    {
     "data": {
      "image/png": "[encoded data removed]",
      "text/plain": [
       "<Figure size 432x288 with 1 Axes>"
      ]
     },
     "metadata": {
      "needs_background": "light"
     },
     "output_type": "display_data"
    }
   ],
   "source": [
    "data = pd.DataFrame([[34,22], [44,33],[55,44],[55,66]], columns=('sales','ddo'), index=('sku1','sku2','sku3','sku4'))\n",
    "pqa_analysis(data)"
   ]
  }
 ],
 "metadata": {
  "kernelspec": {
   "display_name": "Python 3",
   "language": "python",
   "name": "python3"
  },
  "language_info": {
   "codemirror_mode": {
    "name": "ipython",
    "version": 3
   },
   "file_extension": ".py",
   "mimetype": "text/x-python",
   "name": "python",
   "nbconvert_exporter": "python",
   "pygments_lexer": "ipython3",
   "version": "3.8.3"
  }
 },
 "nbformat": 4,
 "nbformat_minor": 4
}
